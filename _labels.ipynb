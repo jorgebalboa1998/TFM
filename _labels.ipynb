{
 "cells": [
  {
   "cell_type": "code",
   "execution_count": 1,
   "metadata": {},
   "outputs": [
    {
     "data": {
      "text/html": [
       "<div>\n",
       "<style scoped>\n",
       "    .dataframe tbody tr th:only-of-type {\n",
       "        vertical-align: middle;\n",
       "    }\n",
       "\n",
       "    .dataframe tbody tr th {\n",
       "        vertical-align: top;\n",
       "    }\n",
       "\n",
       "    .dataframe thead th {\n",
       "        text-align: right;\n",
       "    }\n",
       "</style>\n",
       "<table border=\"1\" class=\"dataframe\">\n",
       "  <thead>\n",
       "    <tr style=\"text-align: right;\">\n",
       "      <th></th>\n",
       "      <th>centroid_latitude</th>\n",
       "      <th>centroid_longitude</th>\n",
       "      <th>centroid_latitude_pixels</th>\n",
       "      <th>centroid_longitude_pixels</th>\n",
       "      <th>area_pixels</th>\n",
       "      <th>area_meters</th>\n",
       "      <th>image_name</th>\n",
       "      <th>nw_corner_of_image_latitude</th>\n",
       "      <th>nw_corner_of_image_longitude</th>\n",
       "      <th>se_corner_of_image_latitude</th>\n",
       "      <th>se_corner_of_image_longitude</th>\n",
       "      <th>datum</th>\n",
       "      <th>jaccard_index</th>\n",
       "    </tr>\n",
       "  </thead>\n",
       "  <tbody>\n",
       "    <tr>\n",
       "      <th>15416</th>\n",
       "      <td>34.243108</td>\n",
       "      <td>-119.160555</td>\n",
       "      <td>2118.488363</td>\n",
       "      <td>3428.374855</td>\n",
       "      <td>90.020804</td>\n",
       "      <td>1000.231156</td>\n",
       "      <td>621051913</td>\n",
       "      <td>34.248828</td>\n",
       "      <td>-119.171986</td>\n",
       "      <td>34.238028</td>\n",
       "      <td>-119.151981</td>\n",
       "      <td>NAD83</td>\n",
       "      <td>0.000000</td>\n",
       "    </tr>\n",
       "    <tr>\n",
       "      <th>15417</th>\n",
       "      <td>34.241204</td>\n",
       "      <td>-119.165305</td>\n",
       "      <td>2823.293951</td>\n",
       "      <td>2004.022414</td>\n",
       "      <td>11.117869</td>\n",
       "      <td>123.531876</td>\n",
       "      <td>621051913</td>\n",
       "      <td>34.248828</td>\n",
       "      <td>-119.171986</td>\n",
       "      <td>34.238028</td>\n",
       "      <td>-119.151981</td>\n",
       "      <td>NAD83</td>\n",
       "      <td>0.796921</td>\n",
       "    </tr>\n",
       "    <tr>\n",
       "      <th>15418</th>\n",
       "      <td>34.239659</td>\n",
       "      <td>-119.169852</td>\n",
       "      <td>3395.750380</td>\n",
       "      <td>640.194779</td>\n",
       "      <td>9.127378</td>\n",
       "      <td>101.415315</td>\n",
       "      <td>621051913</td>\n",
       "      <td>34.248828</td>\n",
       "      <td>-119.171986</td>\n",
       "      <td>34.238028</td>\n",
       "      <td>-119.151981</td>\n",
       "      <td>NAD83</td>\n",
       "      <td>0.791697</td>\n",
       "    </tr>\n",
       "    <tr>\n",
       "      <th>15419</th>\n",
       "      <td>34.239620</td>\n",
       "      <td>-119.169748</td>\n",
       "      <td>3410.340968</td>\n",
       "      <td>671.224025</td>\n",
       "      <td>20.557874</td>\n",
       "      <td>228.420819</td>\n",
       "      <td>621051913</td>\n",
       "      <td>34.248828</td>\n",
       "      <td>-119.171986</td>\n",
       "      <td>34.238028</td>\n",
       "      <td>-119.151981</td>\n",
       "      <td>NAD83</td>\n",
       "      <td>0.836574</td>\n",
       "    </tr>\n",
       "    <tr>\n",
       "      <th>15420</th>\n",
       "      <td>34.240401</td>\n",
       "      <td>-119.164998</td>\n",
       "      <td>3121.117334</td>\n",
       "      <td>2095.824496</td>\n",
       "      <td>10.289467</td>\n",
       "      <td>114.327411</td>\n",
       "      <td>621051913</td>\n",
       "      <td>34.248828</td>\n",
       "      <td>-119.171986</td>\n",
       "      <td>34.238028</td>\n",
       "      <td>-119.151981</td>\n",
       "      <td>NAD83</td>\n",
       "      <td>0.856176</td>\n",
       "    </tr>\n",
       "  </tbody>\n",
       "</table>\n",
       "</div>"
      ],
      "text/plain": [
       "       centroid_latitude  centroid_longitude  centroid_latitude_pixels  \\\n",
       "15416          34.243108         -119.160555               2118.488363   \n",
       "15417          34.241204         -119.165305               2823.293951   \n",
       "15418          34.239659         -119.169852               3395.750380   \n",
       "15419          34.239620         -119.169748               3410.340968   \n",
       "15420          34.240401         -119.164998               3121.117334   \n",
       "\n",
       "       centroid_longitude_pixels  area_pixels  area_meters image_name  \\\n",
       "15416                3428.374855    90.020804  1000.231156  621051913   \n",
       "15417                2004.022414    11.117869   123.531876  621051913   \n",
       "15418                 640.194779     9.127378   101.415315  621051913   \n",
       "15419                 671.224025    20.557874   228.420819  621051913   \n",
       "15420                2095.824496    10.289467   114.327411  621051913   \n",
       "\n",
       "       nw_corner_of_image_latitude  nw_corner_of_image_longitude  \\\n",
       "15416                    34.248828                   -119.171986   \n",
       "15417                    34.248828                   -119.171986   \n",
       "15418                    34.248828                   -119.171986   \n",
       "15419                    34.248828                   -119.171986   \n",
       "15420                    34.248828                   -119.171986   \n",
       "\n",
       "       se_corner_of_image_latitude  se_corner_of_image_longitude  datum  \\\n",
       "15416                    34.238028                   -119.151981  NAD83   \n",
       "15417                    34.238028                   -119.151981  NAD83   \n",
       "15418                    34.238028                   -119.151981  NAD83   \n",
       "15419                    34.238028                   -119.151981  NAD83   \n",
       "15420                    34.238028                   -119.151981  NAD83   \n",
       "\n",
       "       jaccard_index  \n",
       "15416       0.000000  \n",
       "15417       0.796921  \n",
       "15418       0.791697  \n",
       "15419       0.836574  \n",
       "15420       0.856176  "
      ]
     },
     "execution_count": 1,
     "metadata": {},
     "output_type": "execute_result"
    }
   ],
   "source": [
    "import pandas as pd\n",
    "\n",
    "df = pd.read_csv('_polygonDataExceptVertices.csv')\n",
    "df = df.drop(['polygon_id', 'resolution'], axis=1)\n",
    "df = df.drop(df[df.city != 'Oxnard'].index) \n",
    "df = df.drop(['city', 'projection_zone'], axis=1)\n",
    "df.head()"
   ]
  },
  {
   "cell_type": "code",
   "execution_count": 2,
   "metadata": {},
   "outputs": [
    {
     "data": {
      "text/plain": [
       "image_name\n",
       "621651901    323\n",
       "621051897    185\n",
       "619251901    160\n",
       "620451901    103\n",
       "620451909     96\n",
       "621051877     84\n",
       "dtype: int64"
      ]
     },
     "execution_count": 2,
     "metadata": {},
     "output_type": "execute_result"
    }
   ],
   "source": [
    "df.value_counts('image_name').head(6)"
   ]
  },
  {
   "cell_type": "code",
   "execution_count": 3,
   "metadata": {},
   "outputs": [
    {
     "data": {
      "text/html": [
       "<div>\n",
       "<style scoped>\n",
       "    .dataframe tbody tr th:only-of-type {\n",
       "        vertical-align: middle;\n",
       "    }\n",
       "\n",
       "    .dataframe tbody tr th {\n",
       "        vertical-align: top;\n",
       "    }\n",
       "\n",
       "    .dataframe thead th {\n",
       "        text-align: right;\n",
       "    }\n",
       "</style>\n",
       "<table border=\"1\" class=\"dataframe\">\n",
       "  <thead>\n",
       "    <tr style=\"text-align: right;\">\n",
       "      <th></th>\n",
       "      <th>centroid_latitude_pixels</th>\n",
       "      <th>centroid_longitude_pixels</th>\n",
       "    </tr>\n",
       "  </thead>\n",
       "  <tbody>\n",
       "    <tr>\n",
       "      <th>15804</th>\n",
       "      <td>65.617123</td>\n",
       "      <td>1172.430705</td>\n",
       "    </tr>\n",
       "    <tr>\n",
       "      <th>15805</th>\n",
       "      <td>142.778505</td>\n",
       "      <td>1193.402185</td>\n",
       "    </tr>\n",
       "    <tr>\n",
       "      <th>15806</th>\n",
       "      <td>102.563952</td>\n",
       "      <td>1399.142734</td>\n",
       "    </tr>\n",
       "    <tr>\n",
       "      <th>15807</th>\n",
       "      <td>634.021988</td>\n",
       "      <td>304.092654</td>\n",
       "    </tr>\n",
       "    <tr>\n",
       "      <th>15808</th>\n",
       "      <td>637.627039</td>\n",
       "      <td>438.649723</td>\n",
       "    </tr>\n",
       "    <tr>\n",
       "      <th>...</th>\n",
       "      <td>...</td>\n",
       "      <td>...</td>\n",
       "    </tr>\n",
       "    <tr>\n",
       "      <th>15984</th>\n",
       "      <td>2589.805821</td>\n",
       "      <td>3228.477234</td>\n",
       "    </tr>\n",
       "    <tr>\n",
       "      <th>15985</th>\n",
       "      <td>2608.745161</td>\n",
       "      <td>3110.761974</td>\n",
       "    </tr>\n",
       "    <tr>\n",
       "      <th>15986</th>\n",
       "      <td>2606.141566</td>\n",
       "      <td>3233.910727</td>\n",
       "    </tr>\n",
       "    <tr>\n",
       "      <th>15987</th>\n",
       "      <td>1166.336156</td>\n",
       "      <td>4192.005515</td>\n",
       "    </tr>\n",
       "    <tr>\n",
       "      <th>15988</th>\n",
       "      <td>1184.569133</td>\n",
       "      <td>4259.926517</td>\n",
       "    </tr>\n",
       "  </tbody>\n",
       "</table>\n",
       "<p>185 rows × 2 columns</p>\n",
       "</div>"
      ],
      "text/plain": [
       "       centroid_latitude_pixels  centroid_longitude_pixels\n",
       "15804                 65.617123                1172.430705\n",
       "15805                142.778505                1193.402185\n",
       "15806                102.563952                1399.142734\n",
       "15807                634.021988                 304.092654\n",
       "15808                637.627039                 438.649723\n",
       "...                         ...                        ...\n",
       "15984               2589.805821                3228.477234\n",
       "15985               2608.745161                3110.761974\n",
       "15986               2606.141566                3233.910727\n",
       "15987               1166.336156                4192.005515\n",
       "15988               1184.569133                4259.926517\n",
       "\n",
       "[185 rows x 2 columns]"
      ]
     },
     "execution_count": 3,
     "metadata": {},
     "output_type": "execute_result"
    }
   ],
   "source": [
    "# Hecho manual, se puede automatizar\n",
    "\n",
    "df = df.drop(df[df.image_name != '621051897'].index)\n",
    "df = df.drop(['centroid_latitude', 'centroid_longitude', 'area_pixels', 'area_meters', 'image_name', \n",
    "             'nw_corner_of_image_latitude', 'nw_corner_of_image_longitude', 'se_corner_of_image_latitude',\n",
    "             'se_corner_of_image_longitude', 'datum', 'jaccard_index'], axis=1)\n",
    "df"
   ]
  },
  {
   "cell_type": "code",
   "execution_count": 4,
   "metadata": {},
   "outputs": [],
   "source": [
    "import numpy as np\n",
    "\n",
    "df_array = np.array(df)\n",
    "\n",
    "labels = np.zeros(2500, int) \n",
    "\n",
    "df_array_latitude = np.ceil( df_array[:,0] / 80 )\n",
    "df_array_longitude = np.ceil( df_array[:,1] / 120 )\n",
    "\n",
    "df_array_1 = np.stack( (df_array_latitude, df_array_longitude) , axis=1).astype(int)\n",
    "\n",
    "df_array_1_unique = np.unique(df_array_1, axis=0)\n",
    "\n",
    "import itertools\n",
    "\n",
    "comb = np.arange(1, 51)\n",
    "mesh = np.array(np.meshgrid(comb, comb)).T.reshape(-1, 2)\n",
    "\n",
    "indexes = []\n",
    "for _ in df_array_1_unique:\n",
    "    indexes.append(np.argwhere(np.all((mesh-np.array(_))==0, axis=1)))\n",
    "    \n",
    "for _ in range(0, len(indexes)):\n",
    "    labels[indexes[_]] = 1"
   ]
  },
  {
   "cell_type": "code",
   "execution_count": 10,
   "metadata": {},
   "outputs": [
    {
     "name": "stdout",
     "output_type": "stream",
     "text": [
      "[[ 1  1]\n",
      " [ 1  2]\n",
      " [ 1  3]\n",
      " ...\n",
      " [50 48]\n",
      " [50 49]\n",
      " [50 50]]\n",
      "Dimensiones de mesh:  (2500, 2)\n"
     ]
    }
   ],
   "source": [
    "print(mesh)\n",
    "print('Dimensiones de mesh: ', mesh.shape)"
   ]
  },
  {
   "cell_type": "code",
   "execution_count": 14,
   "metadata": {},
   "outputs": [
    {
     "data": {
      "text/plain": [
       "array([[ 1, 10],\n",
       "       [ 2, 10],\n",
       "       [ 2, 12],\n",
       "       [ 8,  3],\n",
       "       [ 8,  4]])"
      ]
     },
     "execution_count": 14,
     "metadata": {},
     "output_type": "execute_result"
    }
   ],
   "source": [
    "df_array_1_unique[0:5]"
   ]
  },
  {
   "cell_type": "code",
   "execution_count": 13,
   "metadata": {},
   "outputs": [
    {
     "data": {
      "text/plain": [
       "(array([0, 1]), array([2459,   41]))"
      ]
     },
     "execution_count": 13,
     "metadata": {},
     "output_type": "execute_result"
    }
   ],
   "source": [
    "np.unique(labels, return_counts=True)"
   ]
  },
  {
   "cell_type": "code",
   "execution_count": 11,
   "metadata": {},
   "outputs": [
    {
     "data": {
      "text/plain": [
       "array([0, 0, 0, ..., 0, 0, 0])"
      ]
     },
     "execution_count": 11,
     "metadata": {},
     "output_type": "execute_result"
    }
   ],
   "source": [
    "labels_tot = labels # Sólo la primera vez (621651901)\n",
    "#labels_tot = np.concatenate((labels_tot, labels)) # Quitar la primera vez\n",
    "labels_tot"
   ]
  },
  {
   "cell_type": "code",
   "execution_count": 28,
   "metadata": {},
   "outputs": [
    {
     "data": {
      "text/plain": [
       "(2500,)"
      ]
     },
     "execution_count": 28,
     "metadata": {},
     "output_type": "execute_result"
    }
   ],
   "source": [
    "labels_tot.shape"
   ]
  },
  {
   "cell_type": "code",
   "execution_count": 29,
   "metadata": {},
   "outputs": [],
   "source": [
    "import pandas as pd\n",
    "\n",
    "pd.DataFrame(labels).to_csv('_labels_train.csv')"
   ]
  },
  {
   "cell_type": "markdown",
   "metadata": {},
   "source": [
    "### Importar el vector de los _labels_ y el de las imágenes"
   ]
  },
  {
   "cell_type": "code",
   "execution_count": 4,
   "metadata": {},
   "outputs": [],
   "source": [
    "numbers = ['01', '02', '03', '04', '05', '06', '07', '08', '09', '10',\n",
    "          '11', '12', '13', '14', '15', '16', '17', '18', '19', '20',\n",
    "          '21', '22', '23', '24', '25', '26', '27', '28', '29', '30',\n",
    "          '31', '32', '33', '34', '35', '36', '37', '38', '39', '40',\n",
    "          '41', '42', '43', '44', '45', '46', '47', '48', '49', '50']"
   ]
  },
  {
   "cell_type": "code",
   "execution_count": 30,
   "metadata": {},
   "outputs": [],
   "source": [
    "import os\n",
    "\n",
    "os.chdir('621651901')"
   ]
  },
  {
   "cell_type": "code",
   "execution_count": 31,
   "metadata": {},
   "outputs": [],
   "source": [
    "import PIL\n",
    "from PIL import Image\n",
    "import numpy as np\n",
    "\n",
    "pixels_data = []\n",
    "for i in numbers:\n",
    "    for j in numbers:\n",
    "        img = Image.open('621651901' + '_' + i + '_' + j + '.png')\n",
    "        pixels = np.asarray(img)\n",
    "        pixels_data = np.append(pixels_data, pixels)\n",
    "pixels_data = pixels_data.astype(int).reshape(2500, 80, 120)"
   ]
  },
  {
   "cell_type": "code",
   "execution_count": 32,
   "metadata": {},
   "outputs": [],
   "source": [
    "import pandas as pd\n",
    "\n",
    "pd.DataFrame(pixels_data.reshape(24000000,1)).to_csv('_data_train.csv')"
   ]
  },
  {
   "cell_type": "markdown",
   "metadata": {},
   "source": [
    "### Exportar los vectores de las imágenes y los _labels_ a un excel"
   ]
  },
  {
   "cell_type": "code",
   "execution_count": 221,
   "metadata": {},
   "outputs": [],
   "source": [
    "labels_data = labels_tot[0:2500]"
   ]
  },
  {
   "cell_type": "code",
   "execution_count": 225,
   "metadata": {},
   "outputs": [
    {
     "name": "stdout",
     "output_type": "stream",
     "text": [
      "(2500, 80, 120)\n",
      "(2500,)\n"
     ]
    }
   ],
   "source": [
    "print(pixels_data.shape)\n",
    "print(labels_data.shape)"
   ]
  },
  {
   "cell_type": "code",
   "execution_count": 226,
   "metadata": {},
   "outputs": [],
   "source": [
    "import pandas as pd\n",
    "\n",
    "pd.DataFrame(labels_data).to_csv('_labels_data.csv')\n",
    "pd.DataFrame(pixels_data.reshape(24000000,1)).to_csv('_pixels_data.csv')"
   ]
  }
 ],
 "metadata": {
  "kernelspec": {
   "display_name": "Python 3",
   "language": "python",
   "name": "python3"
  },
  "language_info": {
   "codemirror_mode": {
    "name": "ipython",
    "version": 3
   },
   "file_extension": ".py",
   "mimetype": "text/x-python",
   "name": "python",
   "nbconvert_exporter": "python",
   "pygments_lexer": "ipython3",
   "version": "3.8.5"
  }
 },
 "nbformat": 4,
 "nbformat_minor": 4
}
