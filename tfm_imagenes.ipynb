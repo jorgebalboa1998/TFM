{
 "cells": [
  {
   "cell_type": "code",
   "execution_count": 3,
   "metadata": {},
   "outputs": [
    {
     "data": {
      "text/html": [
       "<div>\n",
       "<style scoped>\n",
       "    .dataframe tbody tr th:only-of-type {\n",
       "        vertical-align: middle;\n",
       "    }\n",
       "\n",
       "    .dataframe tbody tr th {\n",
       "        vertical-align: top;\n",
       "    }\n",
       "\n",
       "    .dataframe thead th {\n",
       "        text-align: right;\n",
       "    }\n",
       "</style>\n",
       "<table border=\"1\" class=\"dataframe\">\n",
       "  <thead>\n",
       "    <tr style=\"text-align: right;\">\n",
       "      <th></th>\n",
       "      <th>centroid_latitude</th>\n",
       "      <th>centroid_longitude</th>\n",
       "      <th>centroid_latitude_pixels</th>\n",
       "      <th>centroid_longitude_pixels</th>\n",
       "      <th>area_pixels</th>\n",
       "      <th>area_meters</th>\n",
       "      <th>image_name</th>\n",
       "      <th>nw_corner_of_image_latitude</th>\n",
       "      <th>nw_corner_of_image_longitude</th>\n",
       "      <th>se_corner_of_image_latitude</th>\n",
       "      <th>se_corner_of_image_longitude</th>\n",
       "      <th>datum</th>\n",
       "      <th>jaccard_index</th>\n",
       "    </tr>\n",
       "  </thead>\n",
       "  <tbody>\n",
       "    <tr>\n",
       "      <th>15416</th>\n",
       "      <td>34.243108</td>\n",
       "      <td>-119.160555</td>\n",
       "      <td>2118.488363</td>\n",
       "      <td>3428.374855</td>\n",
       "      <td>90.020804</td>\n",
       "      <td>1000.231156</td>\n",
       "      <td>621051913</td>\n",
       "      <td>34.248828</td>\n",
       "      <td>-119.171986</td>\n",
       "      <td>34.238028</td>\n",
       "      <td>-119.151981</td>\n",
       "      <td>NAD83</td>\n",
       "      <td>0.000000</td>\n",
       "    </tr>\n",
       "    <tr>\n",
       "      <th>15417</th>\n",
       "      <td>34.241204</td>\n",
       "      <td>-119.165305</td>\n",
       "      <td>2823.293951</td>\n",
       "      <td>2004.022414</td>\n",
       "      <td>11.117869</td>\n",
       "      <td>123.531876</td>\n",
       "      <td>621051913</td>\n",
       "      <td>34.248828</td>\n",
       "      <td>-119.171986</td>\n",
       "      <td>34.238028</td>\n",
       "      <td>-119.151981</td>\n",
       "      <td>NAD83</td>\n",
       "      <td>0.796921</td>\n",
       "    </tr>\n",
       "    <tr>\n",
       "      <th>15418</th>\n",
       "      <td>34.239659</td>\n",
       "      <td>-119.169852</td>\n",
       "      <td>3395.750380</td>\n",
       "      <td>640.194779</td>\n",
       "      <td>9.127378</td>\n",
       "      <td>101.415315</td>\n",
       "      <td>621051913</td>\n",
       "      <td>34.248828</td>\n",
       "      <td>-119.171986</td>\n",
       "      <td>34.238028</td>\n",
       "      <td>-119.151981</td>\n",
       "      <td>NAD83</td>\n",
       "      <td>0.791697</td>\n",
       "    </tr>\n",
       "    <tr>\n",
       "      <th>15419</th>\n",
       "      <td>34.239620</td>\n",
       "      <td>-119.169748</td>\n",
       "      <td>3410.340968</td>\n",
       "      <td>671.224025</td>\n",
       "      <td>20.557874</td>\n",
       "      <td>228.420819</td>\n",
       "      <td>621051913</td>\n",
       "      <td>34.248828</td>\n",
       "      <td>-119.171986</td>\n",
       "      <td>34.238028</td>\n",
       "      <td>-119.151981</td>\n",
       "      <td>NAD83</td>\n",
       "      <td>0.836574</td>\n",
       "    </tr>\n",
       "    <tr>\n",
       "      <th>15420</th>\n",
       "      <td>34.240401</td>\n",
       "      <td>-119.164998</td>\n",
       "      <td>3121.117334</td>\n",
       "      <td>2095.824496</td>\n",
       "      <td>10.289467</td>\n",
       "      <td>114.327411</td>\n",
       "      <td>621051913</td>\n",
       "      <td>34.248828</td>\n",
       "      <td>-119.171986</td>\n",
       "      <td>34.238028</td>\n",
       "      <td>-119.151981</td>\n",
       "      <td>NAD83</td>\n",
       "      <td>0.856176</td>\n",
       "    </tr>\n",
       "  </tbody>\n",
       "</table>\n",
       "</div>"
      ],
      "text/plain": [
       "       centroid_latitude  centroid_longitude  centroid_latitude_pixels  \\\n",
       "15416          34.243108         -119.160555               2118.488363   \n",
       "15417          34.241204         -119.165305               2823.293951   \n",
       "15418          34.239659         -119.169852               3395.750380   \n",
       "15419          34.239620         -119.169748               3410.340968   \n",
       "15420          34.240401         -119.164998               3121.117334   \n",
       "\n",
       "       centroid_longitude_pixels  area_pixels  area_meters image_name  \\\n",
       "15416                3428.374855    90.020804  1000.231156  621051913   \n",
       "15417                2004.022414    11.117869   123.531876  621051913   \n",
       "15418                 640.194779     9.127378   101.415315  621051913   \n",
       "15419                 671.224025    20.557874   228.420819  621051913   \n",
       "15420                2095.824496    10.289467   114.327411  621051913   \n",
       "\n",
       "       nw_corner_of_image_latitude  nw_corner_of_image_longitude  \\\n",
       "15416                    34.248828                   -119.171986   \n",
       "15417                    34.248828                   -119.171986   \n",
       "15418                    34.248828                   -119.171986   \n",
       "15419                    34.248828                   -119.171986   \n",
       "15420                    34.248828                   -119.171986   \n",
       "\n",
       "       se_corner_of_image_latitude  se_corner_of_image_longitude  datum  \\\n",
       "15416                    34.238028                   -119.151981  NAD83   \n",
       "15417                    34.238028                   -119.151981  NAD83   \n",
       "15418                    34.238028                   -119.151981  NAD83   \n",
       "15419                    34.238028                   -119.151981  NAD83   \n",
       "15420                    34.238028                   -119.151981  NAD83   \n",
       "\n",
       "       jaccard_index  \n",
       "15416       0.000000  \n",
       "15417       0.796921  \n",
       "15418       0.791697  \n",
       "15419       0.836574  \n",
       "15420       0.856176  "
      ]
     },
     "execution_count": 3,
     "metadata": {},
     "output_type": "execute_result"
    }
   ],
   "source": [
    "import pandas as pd\n",
    "\n",
    "df = pd.read_csv('_polygonDataExceptVertices.csv')\n",
    "df = df.drop(['polygon_id', 'resolution'], axis=1)\n",
    "df = df.drop(df[df.city != 'Oxnard'].index) \n",
    "df = df.drop(['city', 'projection_zone'], axis=1)\n",
    "df.head()"
   ]
  },
  {
   "cell_type": "markdown",
   "metadata": {},
   "source": [
    "### Sacar un vector con las imágenes que tienen placas"
   ]
  },
  {
   "cell_type": "code",
   "execution_count": 4,
   "metadata": {},
   "outputs": [
    {
     "data": {
      "text/plain": [
       "array(['621651901', '621051897', '619251901', '620451901', '620451909',\n",
       "       '621051877', '620451881', '621051901', '620451877', '620451905',\n",
       "       '619851905', '621051893', '620451889', '619851917', '620451885',\n",
       "       '620451893', '621051885', '619851893', '618651893', '619851901',\n",
       "       '620451897', '619851885', '619851881', '619851909', '619251893',\n",
       "       '619251889', '619251917', '621051905', '619251913', '618651917',\n",
       "       '618051917', '621051913', '621051909', '618651897', '621051881',\n",
       "       '619851897', '620451917', '621651889', '621051889', '619251905',\n",
       "       '619251877', '619251881', '621651905', '618651889', '621651885',\n",
       "       '621051917', '619851889', '621651917', '619251885', '618651885',\n",
       "       '620451913', '621651881'], dtype=object)"
      ]
     },
     "execution_count": 4,
     "metadata": {},
     "output_type": "execute_result"
    }
   ],
   "source": [
    "import numpy as np\n",
    "\n",
    "image_names = np.array(df.value_counts('image_name').index)"
   ]
  },
  {
   "cell_type": "markdown",
   "metadata": {},
   "source": [
    "### Crear la carpeta para cada imagen"
   ]
  },
  {
   "cell_type": "code",
   "execution_count": 11,
   "metadata": {},
   "outputs": [],
   "source": [
    "import os\n",
    "\n",
    "for _ in image_names:\n",
    "    os.mkdir(os.path.join(os.getcwd(), _))"
   ]
  },
  {
   "cell_type": "markdown",
   "metadata": {},
   "source": [
    "### Hacer imágenes en blanco y negro"
   ]
  },
  {
   "cell_type": "code",
   "execution_count": 27,
   "metadata": {},
   "outputs": [],
   "source": [
    "from PIL import Image\n",
    "\n",
    "for _ in image_names: \n",
    "    img = Image.open( _ + '/' + _ + '.tif')\n",
    "    imgGray = img.convert('L')\n",
    "    imgGray.save( _ + '/' + _ + '.jpg')"
   ]
  },
  {
   "cell_type": "markdown",
   "metadata": {},
   "source": [
    "### Dividir las imágenes en blanco y negro"
   ]
  },
  {
   "cell_type": "code",
   "execution_count": 31,
   "metadata": {},
   "outputs": [],
   "source": [
    "import image_slicer\n",
    "\n",
    "for _ in image_names:\n",
    "    image_slicer.slice( _ + '/' + _ + '.jpg', 2500)"
   ]
  }
 ],
 "metadata": {
  "kernelspec": {
   "display_name": "Python 3",
   "language": "python",
   "name": "python3"
  },
  "language_info": {
   "codemirror_mode": {
    "name": "ipython",
    "version": 3
   },
   "file_extension": ".py",
   "mimetype": "text/x-python",
   "name": "python",
   "nbconvert_exporter": "python",
   "pygments_lexer": "ipython3",
   "version": "3.8.5"
  }
 },
 "nbformat": 4,
 "nbformat_minor": 4
}
