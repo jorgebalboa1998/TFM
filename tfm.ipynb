{
 "cells": [
  {
   "cell_type": "markdown",
   "metadata": {},
   "source": [
    "## Librerías"
   ]
  },
  {
   "cell_type": "code",
   "execution_count": 59,
   "metadata": {},
   "outputs": [],
   "source": [
    "import numpy as np\n",
    "import pandas as pd\n",
    "import matplotlib.pyplot as plt\n",
    "%matplotlib inline\n",
    "from sklearn.model_selection import train_test_split\n",
    "from sklearn.metrics import classification_report\n",
    "import tensorflow as tf\n",
    "\n",
    "import keras\n",
    "from keras.utils import to_categorical\n",
    "from keras.models import Sequential,Input,Model\n",
    "from keras.layers import Dense, Dropout, Flatten\n",
    "from keras.layers import Conv2D, MaxPooling2D\n",
    "from keras.layers.normalization import BatchNormalization\n",
    "from keras.layers.advanced_activations import LeakyReLU\n",
    "from tensorflow.keras import layers, models"
   ]
  },
  {
   "cell_type": "markdown",
   "metadata": {},
   "source": [
    "## Datasets"
   ]
  },
  {
   "cell_type": "code",
   "execution_count": 4,
   "metadata": {},
   "outputs": [],
   "source": [
    "data_train = np.array(pd.read_csv('_data_train.csv'))[:,1]\n",
    "labels_train = np.array(pd.read_csv('_labels_train.csv'))[:,1]\n",
    "data_test = np.array(pd.read_csv('_data_test.csv'))[:,1]\n",
    "labels_test = np.array(pd.read_csv('_labels_test.csv'))[:,1]"
   ]
  },
  {
   "cell_type": "markdown",
   "metadata": {},
   "source": [
    "#### Cambiar estructura y normalizar"
   ]
  },
  {
   "cell_type": "code",
   "execution_count": 5,
   "metadata": {},
   "outputs": [],
   "source": [
    "data_train = data_train.reshape(2500, 80, 120) / 255\n",
    "data_test = data_test.reshape(2500, 80, 120) / 255"
   ]
  },
  {
   "cell_type": "markdown",
   "metadata": {},
   "source": [
    "## Modelo (MLP)"
   ]
  },
  {
   "cell_type": "code",
   "execution_count": 157,
   "metadata": {},
   "outputs": [
    {
     "name": "stdout",
     "output_type": "stream",
     "text": [
      "Epoch 1/10\n",
      "79/79 [==============================] - 6s 66ms/step - loss: 0.3671 - accuracy: 0.9900\n",
      "Epoch 2/10\n",
      "79/79 [==============================] - 5s 63ms/step - loss: 0.0838 - accuracy: 0.9836\n",
      "Epoch 3/10\n",
      "79/79 [==============================] - 5s 57ms/step - loss: 0.0557 - accuracy: 0.9901\n",
      "Epoch 4/10\n",
      "79/79 [==============================] - 4s 57ms/step - loss: 0.0775 - accuracy: 0.9853\n",
      "Epoch 5/10\n",
      "79/79 [==============================] - 5s 60ms/step - loss: 0.0735 - accuracy: 0.9862\n",
      "Epoch 6/10\n",
      "79/79 [==============================] - 5s 58ms/step - loss: 0.0575 - accuracy: 0.9898\n",
      "Epoch 7/10\n",
      "79/79 [==============================] - 5s 60ms/step - loss: 0.0604 - accuracy: 0.9893\n",
      "Epoch 8/10\n",
      "79/79 [==============================] - 5s 59ms/step - loss: 0.0679 - accuracy: 0.9875\n",
      "Epoch 9/10\n",
      "79/79 [==============================] - 5s 57ms/step - loss: 0.0769 - accuracy: 0.9855\n",
      "Epoch 10/10\n",
      "79/79 [==============================] - 5s 58ms/step - loss: 0.0635 - accuracy: 0.9886\n"
     ]
    },
    {
     "data": {
      "text/plain": [
       "<tensorflow.python.keras.callbacks.History at 0x15c2102b0>"
      ]
     },
     "execution_count": 157,
     "metadata": {},
     "output_type": "execute_result"
    }
   ],
   "source": [
    "model = keras.Sequential([\n",
    "    keras.layers.Flatten(input_shape=(80, 120)),\n",
    "    keras.layers.Dense(1000, activation='relu'),\n",
    "    keras.layers.Dense(100, activation='relu'),\n",
    "    keras.layers.Dense(2, activation='softmax')\n",
    "])\n",
    "\n",
    "model.compile(optimizer='adam',\n",
    "              loss='sparse_categorical_crossentropy',\n",
    "              metrics=['accuracy'])\n",
    "\n",
    "model.fit(data_train, labels_train, epochs=10) "
   ]
  },
  {
   "cell_type": "code",
   "execution_count": 121,
   "metadata": {},
   "outputs": [
    {
     "name": "stdout",
     "output_type": "stream",
     "text": [
      "79/79 [==============================] - 0s 3ms/step - loss: 0.2091 - accuracy: 0.9836\n",
      "Precisión: 0.9836000204086304\n"
     ]
    }
   ],
   "source": [
    "test_loss, test_acc = model.evaluate(data_test, labels_test)\n",
    "\n",
    "print('Precisión:', test_acc) "
   ]
  },
  {
   "cell_type": "code",
   "execution_count": 158,
   "metadata": {},
   "outputs": [
    {
     "data": {
      "text/plain": [
       "array([[1.0000000e+00, 1.1065112e-14],\n",
       "       [1.0000000e+00, 2.4610580e-18],\n",
       "       [1.0000000e+00, 5.2238735e-17],\n",
       "       ...,\n",
       "       [1.0000000e+00, 5.2363988e-11],\n",
       "       [1.0000000e+00, 3.5168129e-11],\n",
       "       [1.0000000e+00, 2.8550396e-11]], dtype=float32)"
      ]
     },
     "execution_count": 158,
     "metadata": {},
     "output_type": "execute_result"
    }
   ],
   "source": [
    "predictions = model.predict(data_test)\n",
    "predictions"
   ]
  },
  {
   "cell_type": "code",
   "execution_count": 153,
   "metadata": {},
   "outputs": [
    {
     "data": {
      "text/plain": [
       "(2500, 2)"
      ]
     },
     "execution_count": 153,
     "metadata": {},
     "output_type": "execute_result"
    }
   ],
   "source": [
    "predictions.shape"
   ]
  },
  {
   "cell_type": "code",
   "execution_count": 159,
   "metadata": {},
   "outputs": [],
   "source": [
    "labels_pred = np.zeros(2500).astype(int)\n",
    "\n",
    "for _ in range(0,2500):\n",
    "    if predictions[_,0] == 1:\n",
    "        labels_pred[_] = 0\n",
    "    else:\n",
    "        labels_pred[_] = 1"
   ]
  },
  {
   "cell_type": "code",
   "execution_count": 163,
   "metadata": {},
   "outputs": [
    {
     "data": {
      "text/plain": [
       "array([[2459,   41],\n",
       "       [   0,    0]])"
      ]
     },
     "execution_count": 163,
     "metadata": {},
     "output_type": "execute_result"
    }
   ],
   "source": [
    "from sklearn.metrics import confusion_matrix\n",
    "\n",
    "confusion_matrix(labels_pred, labels_test)"
   ]
  },
  {
   "cell_type": "code",
   "execution_count": 131,
   "metadata": {},
   "outputs": [
    {
     "data": {
      "text/plain": [
       "(array([   9,   59,   61,  352,  353,  402,  403,  734,  735, 1125, 1126,\n",
       "        1127, 1175, 1176, 1177, 1225, 1226, 1227, 1275, 1276, 1277, 1325,\n",
       "        1326, 1327, 1375, 1376, 1377, 1425, 1426, 1427, 1475, 1476, 1477,\n",
       "        1525, 1526, 1527, 1575, 1577, 1625, 1626, 1627]),)"
      ]
     },
     "execution_count": 131,
     "metadata": {},
     "output_type": "execute_result"
    }
   ],
   "source": [
    "np.where(labels_test == 1)"
   ]
  },
  {
   "cell_type": "code",
   "execution_count": 133,
   "metadata": {},
   "outputs": [
    {
     "data": {
      "text/plain": [
       "1"
      ]
     },
     "execution_count": 133,
     "metadata": {},
     "output_type": "execute_result"
    }
   ],
   "source": [
    "labels_pred[0]"
   ]
  },
  {
   "cell_type": "markdown",
   "metadata": {},
   "source": [
    "## Modelo (CNN)"
   ]
  },
  {
   "cell_type": "code",
   "execution_count": 122,
   "metadata": {},
   "outputs": [
    {
     "name": "stdout",
     "output_type": "stream",
     "text": [
      "Epoch 1/10\n",
      "79/79 [==============================] - 13s 160ms/step - loss: 0.1955 - accuracy: 0.9891 - val_loss: 2.0646 - val_accuracy: 0.9836\n",
      "Epoch 2/10\n",
      "79/79 [==============================] - 12s 157ms/step - loss: 0.0800 - accuracy: 0.9857 - val_loss: 2.3036 - val_accuracy: 0.9836\n",
      "Epoch 3/10\n",
      "79/79 [==============================] - 13s 158ms/step - loss: 0.0826 - accuracy: 0.9865 - val_loss: 2.1654 - val_accuracy: 0.9836\n",
      "Epoch 4/10\n",
      "79/79 [==============================] - 13s 170ms/step - loss: 0.0857 - accuracy: 0.9849 - val_loss: 1.8063 - val_accuracy: 0.9836\n",
      "Epoch 5/10\n",
      "79/79 [==============================] - 12s 151ms/step - loss: 0.0716 - accuracy: 0.9870 - val_loss: 1.8124 - val_accuracy: 0.9836\n",
      "Epoch 6/10\n",
      "79/79 [==============================] - 13s 164ms/step - loss: 0.0675 - accuracy: 0.9881 - val_loss: 2.4024 - val_accuracy: 0.9836\n",
      "Epoch 7/10\n",
      "79/79 [==============================] - 12s 153ms/step - loss: 0.0700 - accuracy: 0.9899 - val_loss: 1.7372 - val_accuracy: 0.9836\n",
      "Epoch 8/10\n",
      "79/79 [==============================] - 12s 157ms/step - loss: 0.0746 - accuracy: 0.9861 - val_loss: 1.7311 - val_accuracy: 0.9836\n",
      "Epoch 9/10\n",
      "79/79 [==============================] - 13s 166ms/step - loss: 0.0833 - accuracy: 0.9855 - val_loss: 2.1872 - val_accuracy: 0.9836\n",
      "Epoch 10/10\n",
      "79/79 [==============================] - 12s 158ms/step - loss: 0.0970 - accuracy: 0.9856 - val_loss: 1.6509 - val_accuracy: 0.9836\n"
     ]
    },
    {
     "data": {
      "text/plain": [
       "<tensorflow.python.keras.callbacks.History at 0x1528e7430>"
      ]
     },
     "execution_count": 122,
     "metadata": {},
     "output_type": "execute_result"
    }
   ],
   "source": [
    "model_cnn = models.Sequential()\n",
    "model_cnn.add(layers.Conv2D(32, (1, 1), activation='relu', input_shape=(80, 120, 1)))\n",
    "model_cnn.add(layers.MaxPooling2D((2, 2)))\n",
    "\n",
    "model_cnn.add(layers.Flatten())\n",
    "#model_cnn.add(layers.Dense(1000, activation='relu'))\n",
    "model_cnn.add(layers.Dense(100, activation='relu'))\n",
    "model_cnn.add(layers.Dense(2, activation='softmax'))\n",
    "\n",
    "model_cnn.compile(optimizer='adam',\n",
    "              loss='sparse_categorical_crossentropy',\n",
    "              metrics=['accuracy'])\n",
    "\n",
    "model_cnn.fit(data_train.reshape(-1, 80, 120, 1), labels_train, epochs=10, \n",
    "                    validation_data=(data_test.reshape(-1, 80, 120, 1), labels_test))"
   ]
  },
  {
   "cell_type": "code",
   "execution_count": 123,
   "metadata": {},
   "outputs": [
    {
     "name": "stdout",
     "output_type": "stream",
     "text": [
      "79/79 [==============================] - 3s 32ms/step - loss: 1.6509 - accuracy: 0.9836\n",
      "Precisión: 0.9836000204086304\n"
     ]
    }
   ],
   "source": [
    "test_loss, test_acc = model_cnn.evaluate(data_test.reshape(-1, 80, 120, 1), labels_test)\n",
    "\n",
    "print('Precisión:', test_acc) "
   ]
  },
  {
   "cell_type": "code",
   "execution_count": 154,
   "metadata": {},
   "outputs": [
    {
     "data": {
      "text/plain": [
       "array([[1.0000000e+00, 1.6929619e-34],\n",
       "       [1.0000000e+00, 0.0000000e+00],\n",
       "       [1.0000000e+00, 0.0000000e+00],\n",
       "       ...,\n",
       "       [1.0000000e+00, 1.7066058e-25],\n",
       "       [1.0000000e+00, 1.9369459e-25],\n",
       "       [1.0000000e+00, 2.7342304e-26]], dtype=float32)"
      ]
     },
     "execution_count": 154,
     "metadata": {},
     "output_type": "execute_result"
    }
   ],
   "source": [
    "predictions_cnn = model_cnn.predict(data_test.reshape(-1, 80, 120, 1))\n",
    "predictions_cnn"
   ]
  },
  {
   "cell_type": "code",
   "execution_count": 161,
   "metadata": {},
   "outputs": [],
   "source": [
    "labels_pred_cnn = np.zeros(2500).astype(int)\n",
    "\n",
    "for _ in range(0,2500):\n",
    "    if predictions_cnn[_,0] == 1:\n",
    "        labels_pred_cnn[_] = 0\n",
    "    else:\n",
    "        labels_pred_cnn[_] = 1"
   ]
  },
  {
   "cell_type": "code",
   "execution_count": 162,
   "metadata": {},
   "outputs": [
    {
     "data": {
      "text/plain": [
       "array([[2459,   41],\n",
       "       [   0,    0]])"
      ]
     },
     "execution_count": 162,
     "metadata": {},
     "output_type": "execute_result"
    }
   ],
   "source": [
    "from sklearn.metrics import confusion_matrix\n",
    "\n",
    "confusion_matrix(labels_pred_cnn, labels_test)"
   ]
  },
  {
   "cell_type": "code",
   "execution_count": 172,
   "metadata": {},
   "outputs": [
    {
     "data": {
      "image/png": "[encoded data removed]",
      "text/plain": [
       "<Figure size 432x288 with 1 Axes>"
      ]
     },
     "metadata": {
      "needs_background": "light"
     },
     "output_type": "display_data"
    }
   ],
   "source": [
    "from sklearn import metrics\n",
    "import matplotlib.pyplot as plt\n",
    "\n",
    "fpr, tpr, _ = metrics.roc_curve(labels_test, labels_pred)\n",
    "auc = metrics.roc_auc_score(labels_test, labels_pred)\n",
    "plt.plot(fpr,tpr,label=\"data 1, auc=\"+str(auc))\n",
    "\n",
    "plt.xlabel(\"1 - Especificidad\")\n",
    "plt.ylabel(\"Sensibilidad\")\n",
    "plt.legend(loc=4)\n",
    "plt.show()"
   ]
  }
 ],
 "metadata": {
  "kernelspec": {
   "display_name": "Python 3",
   "language": "python",
   "name": "python3"
  },
  "language_info": {
   "codemirror_mode": {
    "name": "ipython",
    "version": 3
   },
   "file_extension": ".py",
   "mimetype": "text/x-python",
   "name": "python",
   "nbconvert_exporter": "python",
   "pygments_lexer": "ipython3",
   "version": "3.8.5"
  }
 },
 "nbformat": 4,
 "nbformat_minor": 4
}
